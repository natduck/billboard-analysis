{
 "cells": [
  {
   "cell_type": "code",
   "execution_count": 33,
   "id": "981e04a4",
   "metadata": {},
   "outputs": [],
   "source": [
    "import spotipy\n",
    "from spotipy.oauth2 import SpotifyClientCredentials\n",
    "import lyricsgenius\n",
    "import re\n",
    "import requests\n",
    "import json"
   ]
  },
  {
   "cell_type": "code",
   "execution_count": 2,
   "id": "c6e692f6",
   "metadata": {},
   "outputs": [],
   "source": [
    "# Access spotify api\n",
    "client_id = '96dcd39191cf46ee81bb5d1092e6716b'\n",
    "client_secret = '22a0463e07e2485c8fc0a692d3412183'\n",
    "\n",
    "client_credentials_manager = SpotifyClientCredentials(client_id, client_secret)\n",
    "sp = spotipy.Spotify(client_credentials_manager=client_credentials_manager)"
   ]
  },
  {
   "cell_type": "code",
   "execution_count": 17,
   "id": "8e3decec",
   "metadata": {},
   "outputs": [],
   "source": [
    "# access genius api\n",
    "genius_api_key = 'oDCXKglQ5KEKSWTKa3qZBceVqITk6079PgdZI0l0SwJ_UohJzomNzTC_kpQsSs4_'\n",
    "genius = lyricsgenius.Genius(genius_api_key)"
   ]
  },
  {
   "cell_type": "code",
   "execution_count": null,
   "id": "42f673a2",
   "metadata": {},
   "outputs": [],
   "source": []
  },
  {
   "cell_type": "markdown",
   "id": "555ac952",
   "metadata": {},
   "source": [
    "# Popularity Index"
   ]
  },
  {
   "cell_type": "markdown",
   "id": "9bbaf7a2",
   "metadata": {},
   "source": [
    "The popularity score in the Spotify API is a number between 0 and 100 that tells you how popular a track is on Spotify. A higher score means the track is more popular, and the score is based on factors like the number of plays and the number of times the track has been added to playlists."
   ]
  },
  {
   "cell_type": "code",
   "execution_count": 3,
   "id": "7d13748b",
   "metadata": {},
   "outputs": [
    {
     "name": "stdout",
     "output_type": "stream",
     "text": [
      "Thriller has a popularity score of 69.\n"
     ]
    }
   ],
   "source": [
    "# Search for a track and get its ID\n",
    "track_name = 'Thriller' # Thriller by Michael Jackson \n",
    "results = sp.search(q=track_name, type='track')\n",
    "track_id = results['tracks']['items'][0]['id']\n",
    "\n",
    "# Get the track's information and extract its number of streams\n",
    "track_info = sp.track(track_id)\n",
    "popularity_score = track_info['popularity']\n",
    "print(f\"{track_name} has a popularity score of {popularity_score}.\")"
   ]
  },
  {
   "cell_type": "code",
   "execution_count": 4,
   "id": "23a4896e",
   "metadata": {},
   "outputs": [
    {
     "name": "stdout",
     "output_type": "stream",
     "text": [
      "Creepin' has a popularity score of 96.\n"
     ]
    }
   ],
   "source": [
    "# Search for a track and get its ID\n",
    "track_name = 'Creepin\\'' # Creepin' by Metro Boomin\n",
    "results = sp.search(q=track_name, type='track')\n",
    "track_id = results['tracks']['items'][0]['id']\n",
    "\n",
    "# Get the track's information and extract its number of streams\n",
    "track_info = sp.track(track_id)\n",
    "popularity_score = track_info['popularity']\n",
    "print(f\"{track_name} has a popularity score of {popularity_score}.\")"
   ]
  },
  {
   "cell_type": "markdown",
   "id": "4d0ed46c",
   "metadata": {},
   "source": [
    "# Artist "
   ]
  },
  {
   "cell_type": "code",
   "execution_count": 5,
   "id": "45ba6f12",
   "metadata": {},
   "outputs": [],
   "source": [
    "# get the track name and artist name\n",
    "track_name = results['tracks']['items'][0]['name']\n",
    "artist_name = results['tracks']['items'][0]['artists'][0]['name']"
   ]
  },
  {
   "cell_type": "code",
   "execution_count": 6,
   "id": "9cfd37a0",
   "metadata": {},
   "outputs": [
    {
     "name": "stdout",
     "output_type": "stream",
     "text": [
      "Metro Boomin\n"
     ]
    }
   ],
   "source": [
    "print(artist_name)"
   ]
  },
  {
   "cell_type": "markdown",
   "id": "2750d779",
   "metadata": {},
   "source": [
    "# Genre"
   ]
  },
  {
   "cell_type": "code",
   "execution_count": 35,
   "id": "dbf366c5",
   "metadata": {
    "scrolled": false
   },
   "outputs": [
    {
     "name": "stdout",
     "output_type": "stream",
     "text": [
      "The genres of the song are: ['classic rock', 'rock', 'Queen', '70s', '80s']\n"
     ]
    }
   ],
   "source": [
    "# Set up the Last.fm API endpoint and parameters\n",
    "api_key = '99ada5f533810124997231207a4df132' # Replace with your Last.fm API key\n",
    "base_url = 'http://ws.audioscrobbler.com/2.0/'\n",
    "method = 'track.getInfo'\n",
    "artist = 'Queen' # Replace with the name of the artist\n",
    "track = 'Bohemian Rhapsody' # Replace with the title of the song you want to search for\n",
    "params = {\n",
    "    'method': method,\n",
    "    'api_key': api_key,\n",
    "    'artist': artist,\n",
    "    'track': track,\n",
    "    'format': 'json'\n",
    "}\n",
    "\n",
    "# Send the API request and get the response\n",
    "response = requests.get(base_url, params=params)\n",
    "data = json.loads(response.text)\n",
    "\n",
    "# Extract the genres from the response\n",
    "tags = data['track']['toptags']['tag']\n",
    "genres = [tag['name'] for tag in tags]\n",
    "\n",
    "# Print the genres\n",
    "print(f\"The genres of the song are: {genres}\")"
   ]
  }
 ],
 "metadata": {
  "kernelspec": {
   "display_name": "Python 3",
   "language": "python",
   "name": "python3"
  },
  "language_info": {
   "codemirror_mode": {
    "name": "ipython",
    "version": 3
   },
   "file_extension": ".py",
   "mimetype": "text/x-python",
   "name": "python",
   "nbconvert_exporter": "python",
   "pygments_lexer": "ipython3",
   "version": "3.8.8"
  }
 },
 "nbformat": 4,
 "nbformat_minor": 5
}
